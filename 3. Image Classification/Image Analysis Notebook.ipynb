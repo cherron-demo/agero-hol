{
 "metadata": {
  "kernelspec": {
   "display_name": "Streamlit Notebook",
   "name": "streamlit"
  },
  "lastEditStatus": {
   "notebookId": "jxl5bi7ewp6lnmngxmsm",
   "authorId": "27131425464",
   "authorName": "CHERRON",
   "authorEmail": "carter.herron@snowflake.com",
   "sessionId": "1bbb7f9d-363e-4aba-9fbc-5b961a7c2b4e",
   "lastEditTime": 1750861211355
  }
 },
 "nbformat_minor": 5,
 "nbformat": 4,
 "cells": [
  {
   "cell_type": "code",
   "id": "3775908f-ca36-4846-8f38-5adca39217f2",
   "metadata": {
    "language": "python",
    "name": "cell1"
   },
   "source": "# Import python packages\nimport streamlit as st\nimport pandas as pd\nimport snowbooks_extras\n\n# We can also use Snowpark for our analyses!\nfrom snowflake.snowpark.context import get_active_session\nsession = get_active_session()\n",
   "execution_count": null,
   "outputs": []
  },
  {
   "cell_type": "code",
   "id": "8d50cbf4-0c8d-4950-86cb-114990437ac9",
   "metadata": {
    "language": "sql",
    "name": "cell2"
   },
   "source": "use agero_hol_db.image_classification; ",
   "execution_count": null,
   "outputs": []
  },
  {
   "cell_type": "code",
   "id": "c695373e-ac74-4b62-a1f1-08206cbd5c81",
   "metadata": {
    "language": "sql",
    "name": "cell3"
   },
   "source": "select img_file, relative_path, file_url, last_modified from image_table;",
   "execution_count": null,
   "outputs": []
  },
  {
   "cell_type": "code",
   "id": "fd1abb6b-60e0-46ad-918a-8b08291f9ac5",
   "metadata": {
    "language": "sql",
    "name": "cell5"
   },
   "outputs": [],
   "source": "SELECT AI_COMPLETE\n    ('claude-3-5-sonnet', \n     'Summarize this image in 25 words', \n     TO_FILE('@image_stage', 'car_accident.jpg'));",
   "execution_count": null
  },
  {
   "cell_type": "code",
   "id": "fa92e3ae-6882-41b5-bbe1-0cace881b669",
   "metadata": {
    "language": "sql",
    "name": "cell4"
   },
   "outputs": [],
   "source": "SELECT AI_COMPLETE('claude-3-5-sonnet',\n    PROMPT('Compare this image {0} to this image {1} and describe a proposed remediation to the car issues',\n    TO_FILE('@image_stage', 'car_missing_tire.jpg'),\n    TO_FILE('@image_stage', 'car_smoking.jpg')\n));",
   "execution_count": null
  },
  {
   "cell_type": "code",
   "id": "24790bb9-f0c1-4311-952a-1e87f5232c85",
   "metadata": {
    "language": "sql",
    "name": "cell7"
   },
   "outputs": [],
   "source": "select img_file, relative_path, file_url, last_modified from image_table\nwhere ai_filter(prompt('does this image {0} have a car?', img_file));",
   "execution_count": null
  },
  {
   "cell_type": "code",
   "id": "82029a59-f2eb-454d-b152-da4d14f35209",
   "metadata": {
    "language": "sql",
    "name": "cell8"
   },
   "outputs": [],
   "source": "SELECT\nAI_CLASSIFY(image_file, ['car accident', 'other']):labels AS classification\nFROM image_table;",
   "execution_count": null
  }
 ]
}